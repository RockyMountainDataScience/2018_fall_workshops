{
 "cells": [
  {
   "cell_type": "markdown",
   "metadata": {
    "slideshow": {
     "slide_type": "slide"
    }
   },
   "source": [
    "# Rocky Mountain Data Science\n",
    "\n",
    "## Workshop 1 - Intro Linux & Git"
   ]
  },
  {
   "cell_type": "markdown",
   "metadata": {
    "slideshow": {
     "slide_type": "slide"
    }
   },
   "source": [
    "# Goals\n",
    "\n",
    "* Create a collaborative space for exploration of data science projects\n",
    "\n",
    "* Provide familiarity with a wide range of topics and industry standard open source tools\n",
    "\n",
    "* Generate networking opprotunities for students, faculty, and businesses"
   ]
  },
  {
   "cell_type": "markdown",
   "metadata": {
    "slideshow": {
     "slide_type": "slide"
    }
   },
   "source": [
    "# Workshops\n",
    "\n",
    "* Typical Format - Explanation of task and tools for 20-30 minutes, then work individually or as a group to solve the presented problem\n",
    "\n",
    "* During the Fall Semester, we will focus on python, programming, data structures, numerical python (numpy), etc.\n",
    "\n",
    "* During the Spring Semester, we will move towards data collection and cleaning, building a machine learning toolbox, learning effective data visualization libraries, and mentor those who are interested in a semester long project."
   ]
  },
  {
   "cell_type": "markdown",
   "metadata": {
    "slideshow": {
     "slide_type": "slide"
    }
   },
   "source": [
    "# Data Science Project Examples\n",
    "\n",
    "* Web-Scraping Sports Statistics\n",
    "\n",
    "* Fitbit Tracker Analysis\n",
    "\n",
    "* Neural Network Classification of Cats"
   ]
  },
  {
   "cell_type": "markdown",
   "metadata": {
    "slideshow": {
     "slide_type": "slide"
    }
   },
   "source": [
    "# Open Source Software\n",
    "\n",
    "* What is it? \n",
    "\n",
    "* The Open Source Initiative provides several criteria for a project to be conidered open source. Most important among these is ''Free Distribution.'' "
   ]
  },
  {
   "cell_type": "markdown",
   "metadata": {
    "slideshow": {
     "slide_type": "slide"
    }
   },
   "source": [
    "* Why are we using it?\n",
    "\n",
    "* Kaggle, a popular data science competition website, in a \"State of Data Science & Machine Learning\" survey found most data scientists used some form of open source software.\n",
    "\n",
    "* Open Source code allows us to have most (if not all) of the functionality of large commercial software packages without the large up-front cost.\n",
    "\n",
    "* The ability to share code fosters collaboration. You can make valuable contributions to an open source project without having to work for a company or even have a computer science degree."
   ]
  },
  {
   "cell_type": "markdown",
   "metadata": {
    "slideshow": {
     "slide_type": "slide"
    }
   },
   "source": [
    "# Who We Are\n",
    "\n",
    "## Co-Directors \n",
    "1. Tristan Anacker\n",
    "2. Catherine Potts\n",
    "3. Jordan Love\n",
    "\n",
    "## Faculty Advisor\n",
    "\n",
    "* Dr. Domonique Zosso"
   ]
  },
  {
   "cell_type": "markdown",
   "metadata": {
    "slideshow": {
     "slide_type": "slide"
    }
   },
   "source": [
    "# Special Thanks\n",
    "\n",
    "<img src=\"tadpull-logo_new.png\">"
   ]
  },
  {
   "cell_type": "markdown",
   "metadata": {
    "slideshow": {
     "slide_type": "slide"
    }
   },
   "source": [
    "# Workshop 1\n",
    "\n",
    "## Introduction to Linux & Git"
   ]
  },
  {
   "cell_type": "markdown",
   "metadata": {
    "slideshow": {
     "slide_type": "slide"
    }
   },
   "source": [
    "# What is Linux?\n",
    "\n",
    "* Linux is a type of operating system. There are many distributions from which to choose (Ubuntu, Fedora, Mint, Arch Linux, etc.)\n",
    "\n",
    "* Almost all are open source and community supported\n",
    "\n",
    "* Linux provides more directly access to the computer via Temrinal"
   ]
  },
  {
   "cell_type": "markdown",
   "metadata": {
    "slideshow": {
     "slide_type": "slide"
    }
   },
   "source": [
    "# What is a Terminal?\n",
    "\n",
    "* A terminal is a way to interact with your computer through a command prompt\n",
    "\n",
    "* While seemingly outdated, using a terminal can actually be highly efficient\n",
    "\n",
    "* Understanding the underlying file structure and how your computer \"thinks\" is crucial to good programming practice"
   ]
  },
  {
   "cell_type": "markdown",
   "metadata": {
    "slideshow": {
     "slide_type": "slide"
    }
   },
   "source": [
    "# What is Git?\n",
    "\n",
    "* Git is a form of Version Control (There are many other popular version control systems, but Git is the most common)\n",
    "\n",
    "* Version Control allows large groups of people to collaborate on the same code in an organized way. \n",
    "\n",
    "* Git was created by the creator of Linux (Linus Torvald) to manage the exponential growth of the Linux Kernel"
   ]
  },
  {
   "cell_type": "markdown",
   "metadata": {},
   "source": [
    "# What is Version Control?\n",
    "\n",
    "* Failsafe\n",
    "\n",
    "    * provides a history version of code as well as comments on what changes\n",
    "    \n",
    "    * allows multiple coders to work on programs at the same time\n",
    "    "
   ]
  },
  {
   "cell_type": "markdown",
   "metadata": {
    "slideshow": {
     "slide_type": "slide"
    }
   },
   "source": [
    "# What do I need to know?\n",
    "\n",
    "* We will walk through some basic examples and use the equivalent of a terminal on your machine\n",
    "\n",
    "* We will not dive into command line version control, but we will create an online repository\n",
    "\n",
    "* Navigate to github.com/RockyMountainDataScience/workshops"
   ]
  },
  {
   "cell_type": "raw",
   "metadata": {},
   "source": [
    "<style>\n",
    "@import url('https://fonts.googleapis.com/css?family=Montserrat');\n",
    "@import url('https://fonts.googleapis.com/css?family=Rajdhani');\n",
    "@import url('https://fonts.googleapis.com/css?family=Open+Sans');\n",
    "\n",
    "body {\n",
    "   background-image: url(\"logo_background.png\");\n",
    "   background-size: 50%;\n",
    "   background-repeat: no-repeat;\n",
    "   background-attachment: fixed;\n",
    "   background-position: center;\n",
    "}\n",
    "\n",
    ".reveal h1{\n",
    "    font-family: 'Montserrat', sans-serif;\n",
    "}\n",
    "\n",
    ".reveal h2{\n",
    "    font-family: 'Rajdhani', sans-serif;\n",
    "}\n",
    "\n",
    ".reveal p{\n",
    "    font-family: 'Open Sans', sans-serif;\n",
    "}\n",
    "\n",
    "</style>"
   ]
  }
 ],
 "metadata": {
  "celltoolbar": "Slideshow",
  "kernelspec": {
   "display_name": "Python 3",
   "language": "python",
   "name": "python3"
  },
  "language_info": {
   "codemirror_mode": {
    "name": "ipython",
    "version": 3
   },
   "file_extension": ".py",
   "mimetype": "text/x-python",
   "name": "python",
   "nbconvert_exporter": "python",
   "pygments_lexer": "ipython3",
   "version": "3.6.5"
  }
 },
 "nbformat": 4,
 "nbformat_minor": 2
}
