{
 "cells": [
  {
   "cell_type": "markdown",
   "metadata": {},
   "source": [
    "# Workshop 1 - Github\n",
    "\n",
    "1. Set up an [account](github.com)\n",
    "\n",
    "2. Download [helloworld.py](https://github.com/RockyMountainDataScience/workshops) from RMDS repository\n",
    "\n"
   ]
  },
  {
   "cell_type": "markdown",
   "metadata": {},
   "source": [
    "# Workshop 1 - Terminal\n",
    "\n",
    "\n",
    "### 1. Open a terminal window\n",
    "\n",
    "* MAC users - search \"Terminal\"\n",
    "    \n",
    "* Windows users - search \"command prompt\"\n",
    "    \n",
    "* Linux users - We trust you...\n",
    "\n",
    "### 2. Navigation\n",
    "    \n",
    "* cd - Change Directory - changes what folder your terminal window is focused on\n",
    "* ls - List Segments - lists all files and subfolders in the folder your terminal window is focused on (Windows Users: dir)\n",
    "* cd ../ - Back Out One - moves one folder backwards in your filepath\n",
    "    \n",
    "### 3.  Running a Python File\n",
    "    \n",
    "* Command stating to run the file as a Python program and which file to run \n",
    "    \n",
    "* MAC Users - python helloworld.py \n",
    "    \n",
    "* Windows Users - py helloworld.py \n",
    "    \n",
    "    "
   ]
  },
  {
   "cell_type": "markdown",
   "metadata": {},
   "source": [
    "# Workshop 1 - Atom\n",
    "\n",
    "1. Open file helloworld.py\n",
    "\n",
    "2. Modify print command\n",
    "\n",
    "3. Save as new .py file\n",
    "\n",
    "4. Upload to Github\n",
    "\n",
    "5. [Create](https://help.github.com/articles/create-a-repo/) a Custom Repository\n",
    "    \n",
    "6. [Upload](https://help.github.com/articles/adding-a-file-to-a-repository/) your modified helloworld.py file to your repository"
   ]
  }
 ],
 "metadata": {
  "kernelspec": {
   "display_name": "Python 3",
   "language": "python",
   "name": "python3"
  },
  "language_info": {
   "codemirror_mode": {
    "name": "ipython",
    "version": 3
   },
   "file_extension": ".py",
   "mimetype": "text/x-python",
   "name": "python",
   "nbconvert_exporter": "python",
   "pygments_lexer": "ipython3",
   "version": "3.6.5"
  }
 },
 "nbformat": 4,
 "nbformat_minor": 2
}
