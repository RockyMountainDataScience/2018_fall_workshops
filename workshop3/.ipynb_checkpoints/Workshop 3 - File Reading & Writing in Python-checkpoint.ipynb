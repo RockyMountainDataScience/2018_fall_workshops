{
 "cells": [
  {
   "cell_type": "markdown",
   "metadata": {},
   "source": [
    "# Workshop 3\n",
    "\n",
    "## _File Reading & Writing in Python_\n",
    "\n",
    "In this workshop, we will cover the basics of reading and writing files which are _external_ to Python scripts we write. While there are many cases in which we may want read and write files, one pertinent example for Data Science is data cleaning. Folklore among data scientists is that data cleaning can take up to 90% of a project's lifecycle. We will not discuss the extremely difficult cases of data cleaning in this workshop, but we will introduce some basics to get you started."
   ]
  },
  {
   "cell_type": "markdown",
   "metadata": {},
   "source": [
    "## Interacting with a File \n",
    "\n",
    "In Python, we open a file using the *open()* command and assign the resulting object to a variable name of our choice. This object is the file waiting to be interacted with using other commands. The primary commands we will use to interact with a file object are *read()*, *readline()*, and *write()*. Finally, once we are done interacting with a file, we will need to close the connection to the file to finalize the changes before exiting the python script. We will do this through the *close()* function in python.\n"
   ]
  },
  {
   "cell_type": "markdown",
   "metadata": {},
   "source": [
    "### Opening a File\n",
    "\n",
    "When using the open command, we will pass two arguments in the function call. The first is the filename as a string datatype. For this workshop, we will assume that all of the files we open are in the same directory as the python script we are running. However, you can alter the [file path](todo) to open a file from anywhere on your computer. The second argument we will pass is the _mode_ which we are opening the file in. There are three possible modes we can open a file in:\n",
    "\n",
    "* Read mode -- This allows us to read from the file but not write any information to the file. We can open a file with this mode by passing 'r' as the mode argument in the *open()* function. \n",
    "\n",
    "* Write mode -- This allows us to write to the file but not read any information from the file. We can open a file with this mode by passing 'w' as the mode argument in the *open()* function.\n",
    "\n",
    "* Append mode -- This allows us to append information to the end of the file without overwriting information currently in the file. We can open a file with this mode by passing 'a' as the mode argument in the *open()* function."
   ]
  },
  {
   "cell_type": "markdown",
   "metadata": {},
   "source": [
    "### Interacting with a File\n",
    "\n",
    "Once we have opened a file, we will want to use one of the three functions discussed earlier to either read or modify the contents of the file. When using the *read()* command, we will read _all_ of the contents of the file at once. This can be useful in some scenarios, but we will mostly want to use the *readline()* function to step through each new line of the file sequentially. \n",
    "\n",
    "All output from the *readline()* function will be outputted as a _string_ datatype. However, sometimes we will want process the contents of the file as other datatypes such as _integers_ or _floats_. In order to do change a string to one of these other datatypes, we can _cast_ the string into another datatype by using either the *int()* function or *float()* function. These functions require that the string passed adhere to what would be expected of a float (no letters, no punctuation except the decimal point in the float datatype). Otherwise, an error will be returned and the script will close. If we are unsure what type an object is, we can apply the *type()* function to find the answer.\n",
    "\n",
    "Python provides convenient functionality for looping through lines of each file by allowing you to define the readline function implicitly in a for loop. We can treat an opened file object as a list and iterate through the contents. \n",
    "\n",
    "Finally, if we want to write contents to a file, we can open the file with the correct permissions and send output. Remember that if you do not use the append functionality, python will overwrite the file completely. If we are using the append function, we do not have to worry about the write function overwriting pre-existing data."
   ]
  },
  {
   "cell_type": "markdown",
   "metadata": {},
   "source": [
    "### Closing a file\n",
    "\n",
    "In order to ensure our changes persist, we must close the file using the *close()* function on the opened file object. Once we have done this, we can then open the file with an external editor to examine the changes."
   ]
  },
  {
   "cell_type": "code",
   "execution_count": 34,
   "metadata": {},
   "outputs": [
    {
     "name": "stdout",
     "output_type": "stream",
     "text": [
      "1000200020002000\n",
      "2000\n",
      "2000\n",
      "2000\n",
      "2000\n",
      "\n",
      "\n"
     ]
    }
   ],
   "source": [
    "# Open the file with read permissions\n",
    "opened_file = open('test.txt', 'r')\n",
    "\n",
    "# Read the entire contents of the file\n",
    "print(opened_file.read())\n",
    "\n",
    "# If I try reading anymore content of the file, we will find nothing is returned.\n",
    "print(opened_file.read())\n",
    "\n",
    "# Close the file as we are done operating on it\n",
    "opened_file.close()"
   ]
  },
  {
   "cell_type": "code",
   "execution_count": 32,
   "metadata": {},
   "outputs": [
    {
     "name": "stdout",
     "output_type": "stream",
     "text": [
      "1000200020002000\n",
      "\n",
      "2000\n",
      "\n"
     ]
    }
   ],
   "source": [
    "# Open file with read permissions\n",
    "opened_file = open('test.txt', 'r')\n",
    "\n",
    "# Read only one line of the file\n",
    "print(opened_file.readline())\n",
    "\n",
    "# Read the next line of the file\n",
    "print(opened_file.readline())\n",
    "\n",
    "# Close the file as we are done operating on it\n",
    "opened_file.close()"
   ]
  },
  {
   "cell_type": "code",
   "execution_count": 15,
   "metadata": {},
   "outputs": [
    {
     "name": "stdout",
     "output_type": "stream",
     "text": [
      "1000\n"
     ]
    }
   ],
   "source": [
    "# Open the file with write permissions\n",
    "opened_file = open('test.txt', 'w')\n",
    "\n",
    "# Write a new number to the first line\n",
    "opened_file.write('1000')\n",
    "\n",
    "# Close the file to finalize changes\n",
    "opened_file.close()\n",
    "\n",
    "# Read the file to check the changes\n",
    "opened_file = open('test.txt', 'r')\n",
    "print(opened_file.read())\n",
    "opened_file.close()"
   ]
  },
  {
   "cell_type": "code",
   "execution_count": 22,
   "metadata": {},
   "outputs": [
    {
     "name": "stdout",
     "output_type": "stream",
     "text": [
      "1000200020002000\n",
      "2000\n",
      "2000\n",
      "2000\n",
      "2000\n",
      "\n"
     ]
    }
   ],
   "source": [
    "# Open the file with append permissions\n",
    "opened_file = open('test.txt', 'a')\n",
    "\n",
    "# Write some more content into the file as a string\n",
    "opened_file.write('2000')\n",
    "\n",
    "# Close the file to finalize changes\n",
    "opened_file.close()\n",
    "\n",
    "opened_file = open('test.txt', 'r')\n",
    "print(opened_file.read())\n",
    "opened_file.close()"
   ]
  },
  {
   "cell_type": "markdown",
   "metadata": {},
   "source": [
    "## Using Python Tricks for File Reading and Writing\n",
    "\n",
    "### For Loop for Each New Line\n",
    "\n",
    "There are two key python shortcuts we can use to improve our ability to interact with files in Python. The first is using a _for_ loop to iterate over each the lines in the file. Python recognizes an open file just like a list with each item being a new line in the file. Using this, we still need to open and close the file manually before interacting with it."
   ]
  },
  {
   "cell_type": "code",
   "execution_count": 24,
   "metadata": {},
   "outputs": [
    {
     "name": "stdout",
     "output_type": "stream",
     "text": [
      "1000200020002000\n",
      "\n",
      "2000\n",
      "\n",
      "2000\n",
      "\n",
      "2000\n",
      "\n",
      "2000\n",
      "\n"
     ]
    }
   ],
   "source": [
    "# We can use built-in Python functionality to read files sequentially using a for loop structure\n",
    "opened_file = open('test.txt', 'r')\n",
    "\n",
    "# For each new line in the opened file, perform some operation (in this case print)\n",
    "for line in opened_file:\n",
    "    print(line)\n",
    "    \n",
    "# Close file as we are done operating on it\n",
    "opened_file.close()"
   ]
  },
  {
   "cell_type": "markdown",
   "metadata": {},
   "source": [
    "### Automatically Closing files using a With structure\n",
    "\n",
    "The with structure temporarily defines a variable to be used with an indentation block. Conveniently, Python knows when that variable is a file object and can close the file automatically after exiting the indentation block. This allows us to never forget to close a file after operating on it by using a with structure. The _with_ structure may not apply to every problem, but it can be convenient in may contexts."
   ]
  },
  {
   "cell_type": "code",
   "execution_count": 30,
   "metadata": {},
   "outputs": [
    {
     "name": "stdout",
     "output_type": "stream",
     "text": [
      "1000200020002000\n",
      "2000\n",
      "2000\n",
      "2000\n",
      "2000\n"
     ]
    },
    {
     "ename": "ValueError",
     "evalue": "I/O operation on closed file.",
     "output_type": "error",
     "traceback": [
      "\u001b[0;31m---------------------------------------------------------------------------\u001b[0m",
      "\u001b[0;31mValueError\u001b[0m                                Traceback (most recent call last)",
      "\u001b[0;32m<ipython-input-30-f19d47b78da1>\u001b[0m in \u001b[0;36m<module>\u001b[0;34m()\u001b[0m\n\u001b[1;32m      6\u001b[0m         \u001b[0mprint\u001b[0m\u001b[0;34m(\u001b[0m\u001b[0mint\u001b[0m\u001b[0;34m(\u001b[0m\u001b[0mline\u001b[0m\u001b[0;34m)\u001b[0m\u001b[0;34m)\u001b[0m\u001b[0;34m\u001b[0m\u001b[0m\n\u001b[1;32m      7\u001b[0m \u001b[0;34m\u001b[0m\u001b[0m\n\u001b[0;32m----> 8\u001b[0;31m \u001b[0mopened_file\u001b[0m\u001b[0;34m.\u001b[0m\u001b[0mread\u001b[0m\u001b[0;34m(\u001b[0m\u001b[0;34m)\u001b[0m\u001b[0;34m\u001b[0m\u001b[0m\n\u001b[0m",
      "\u001b[0;31mValueError\u001b[0m: I/O operation on closed file."
     ]
    }
   ],
   "source": [
    "# We can use one more Python trick to automatically \n",
    "# close the file once we are done using the \"with\" command\n",
    "\n",
    "with open('test.txt', 'r') as opened_file:\n",
    "    for line in opened_file:\n",
    "        print(int(line))\n",
    "        \n",
    "# If I try to operate with the file outside of the identation block, I get an error\n",
    "#opened_file.read()"
   ]
  }
 ],
 "metadata": {
  "kernelspec": {
   "display_name": "Python 3",
   "language": "python",
   "name": "python3"
  },
  "language_info": {
   "codemirror_mode": {
    "name": "ipython",
    "version": 3
   },
   "file_extension": ".py",
   "mimetype": "text/x-python",
   "name": "python",
   "nbconvert_exporter": "python",
   "pygments_lexer": "ipython3",
   "version": "3.6.5"
  }
 },
 "nbformat": 4,
 "nbformat_minor": 2
}
