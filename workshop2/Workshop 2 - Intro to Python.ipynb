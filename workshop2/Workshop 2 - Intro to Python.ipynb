{
 "cells": [
  {
   "cell_type": "markdown",
   "metadata": {},
   "source": [
    "# Intro to Python\n",
    "\n",
    "### 1. Goals\n",
    "\n",
    "    a. Introduce data types\n",
    "    b. Practice functional level programming\n",
    "    c. Build a Python program from a template"
   ]
  },
  {
   "cell_type": "markdown",
   "metadata": {},
   "source": [
    "# Data Types\n",
    "\n",
    "### 1. Numerical Data Types\n",
    "    \n",
    "    a. int - integer - stores signed integers\n",
    "    b. double or float - decimal numbers - stores signed decimal values numbers up to some signficant figures\n",
    "    \n",
    "### 2. Boolean Data Types\n",
    "\n",
    "    a. bool - T/F - stores 0 or 1 as logical statements\n",
    "    b. int - integer values of 0 or 1 work as logical statements\n",
    "    \n",
    "### 3. Characters\n",
    "\n",
    "    a. char - characters - stores one ASCII symbol\n",
    "    b. str - string - stores a collection of characters\n",
    "    \n",
    "### 4. Lists \n",
    "    \n",
    "    a. list - a collection of any one data type \n",
    "    b. strings are lists of chars \n",
    "    c. a vector is a list of numbers\n",
    "    \n",
    "### 5. Dictionary\n",
    "\n",
    "    a. dictionary - a list of items denoted using a keyword. \n"
   ]
  },
  {
   "cell_type": "code",
   "execution_count": 10,
   "metadata": {},
   "outputs": [
    {
     "name": "stdout",
     "output_type": "stream",
     "text": [
      "bang\n"
     ]
    }
   ],
   "source": [
    "num = 7;\n",
    "\n",
    "if num%2 == 1:\n",
    "    print(\"fizz\")\n",
    "else:\n",
    "    print(\"buzz\")"
   ]
  },
  {
   "cell_type": "code",
   "execution_count": 9,
   "metadata": {},
   "outputs": [
    {
     "name": "stdout",
     "output_type": "stream",
     "text": [
      "fuzz\n"
     ]
    }
   ],
   "source": [
    "num = 7;\n",
    "\n",
    "if num%2:\n",
    "    print(\"fizz\")\n",
    "else:\n",
    "    print(\"buzz\")"
   ]
  },
  {
   "cell_type": "code",
   "execution_count": 2,
   "metadata": {
    "scrolled": true
   },
   "outputs": [
    {
     "name": "stdout",
     "output_type": "stream",
     "text": [
      "['apple', 2, True]\n",
      "apple\n",
      "True\n"
     ]
    }
   ],
   "source": [
    "my_list = [\"apple\",2,True];\n",
    "\n",
    "print(my_list)\n",
    "print(my_list[0])\n",
    "print(my_list[2])"
   ]
  },
  {
   "cell_type": "code",
   "execution_count": 1,
   "metadata": {},
   "outputs": [
    {
     "name": "stdout",
     "output_type": "stream",
     "text": [
      "True\n",
      "It's a fruit\n"
     ]
    }
   ],
   "source": [
    "fruits = [\"apple\", \"grape\", \"banana\"]\n",
    "\n",
    "print(\"apple\" in fruits)\n",
    "\n",
    "if \"grape\" in fruits:\n",
    "    print(\"It's a fruit\")"
   ]
  },
  {
   "cell_type": "code",
   "execution_count": 25,
   "metadata": {
    "scrolled": true
   },
   "outputs": [
    {
     "name": "stdout",
     "output_type": "stream",
     "text": [
      "{'catherine': 'nellie', 'jordan': 'tristan'}\n",
      "{'catherine': 'nellie', 'jordan': 'chris'}\n",
      "{'catherine': 'nellie', 'jordan': 'chris', 'chris': 'tristan'}\n"
     ]
    }
   ],
   "source": [
    "friends = {\n",
    "    \"catherine\":\"nellie\",\n",
    "    \"jordan\":\"tristan\"\n",
    "}\n",
    "\n",
    "print(friends)\n",
    "\n",
    "friends[\"jordan\"] = \"chris\";\n",
    "\n",
    "print(friends)\n",
    "\n",
    "friends[\"chris\"] = \"tristan\";\n",
    "\n",
    "print(friends)"
   ]
  },
  {
   "cell_type": "markdown",
   "metadata": {},
   "source": [
    "# Functional Programing\n",
    "\n",
    "### What it is: \n",
    "    Functional programming takes tasks and relegates them to a different area of your program\n",
    "    \n",
    "### Why it is used: \n",
    "    Creating a function allows code to be re-used throughout your program. It also can simplify the de-bugging process\n",
    "    \n",
    "### How it is used:\n",
    "    Two major components go into writing and using a function:\n",
    "        a. Function Definition - area of code that defines:\n",
    "            1. Function Name\n",
    "            2. Function Code (operations defined inside the function)\n",
    "            3. Function Inputs - storage spaces for the information the function needs to run\n",
    "            4. Function Output - information the function sends back to the code\n",
    "        b. Function Call - used whenever the programmer wants to run the function:\n",
    "            1. Feeds information into input storage spaces\n",
    "            2. Stores information sent from the function as output"
   ]
  },
  {
   "cell_type": "code",
   "execution_count": 7,
   "metadata": {},
   "outputs": [
    {
     "name": "stdout",
     "output_type": "stream",
     "text": [
      "Hellllllooooo catherine\n",
      "Hellllllooooo jordan\n",
      "Hellllllooooo tristan\n",
      "I made 3 shout-outs\n"
     ]
    }
   ],
   "source": [
    "def shout_out(list_of_names):\n",
    "    for i in range(0,len(list_of_names)): \n",
    "            print(\"Hellllllooooo \" + list_of_names[i])\n",
    "    return len(list_of_names)\n",
    "            \n",
    "names = [\"catherine\", \"jordan\", \"tristan\"]\n",
    "\n",
    "number_of_names = shout_out(names)\n",
    "\n",
    "print(\"I made \" + str(number_of_names) + \" shout-outs\")"
   ]
  },
  {
   "cell_type": "code",
   "execution_count": 8,
   "metadata": {},
   "outputs": [
    {
     "name": "stdout",
     "output_type": "stream",
     "text": [
      "Hellllllooooo catherine\n",
      "Hellllllooooo jordan\n",
      "Hellllllooooo tristan\n",
      "I made 3 shout-outs\n"
     ]
    }
   ],
   "source": [
    "def shout_out(list_of_names):\n",
    "    for i in list_of_names: \n",
    "            print(\"Hellllllooooo \" + i)\n",
    "    return len(list_of_names)\n",
    "            \n",
    "names = [\"catherine\", \"jordan\", \"tristan\"]\n",
    "\n",
    "number_of_names = shout_out(names)\n",
    "\n",
    "print(\"I made \" + str(number_of_names) + \" shout-outs\")"
   ]
  }
 ],
 "metadata": {
  "kernelspec": {
   "display_name": "Python 3",
   "language": "python",
   "name": "python3"
  },
  "language_info": {
   "codemirror_mode": {
    "name": "ipython",
    "version": 3
   },
   "file_extension": ".py",
   "mimetype": "text/x-python",
   "name": "python",
   "nbconvert_exporter": "python",
   "pygments_lexer": "ipython3",
   "version": "3.6.5"
  }
 },
 "nbformat": 4,
 "nbformat_minor": 2
}
