{
 "cells": [
  {
   "cell_type": "markdown",
   "metadata": {},
   "source": [
    "# Workshop 5\n",
    "\n",
    "### Introduction to Numpy\n",
    "\n",
    "## What is Numpy?\n",
    "\n",
    "TODO: Background on what is numpy\n",
    "TODO: Background on alternatives to numpy (matlab, R)\n",
    "TODO: Background on differences between numpy and matlab\n",
    "\n",
    "## Data Structure Basics\n",
    "\n",
    "TODO: Introduce Numpy Array\n",
    "TODO: Introduce Access specific rows/columns\n",
    "TODO: Introduce accessing shape and dimension (dim vs. shape)\n",
    "\n",
    "## Numpy Array Operations\n",
    "\n",
    "TODO: Introduce addition, subtraction\n",
    "TODO: Introduce different multiplications (element-wise, matrix)\n",
    "TODO: Introduce Matrix Inversion\n",
    "\n",
    "## Advanced Numpy Array Operations\n",
    "\n",
    "TODO: Introduce Eigenvalues\n",
    "TODO: Introduce Applying Functions (Centrality measure?)\n",
    "TODO: Introduce Decompositions\n",
    "\n",
    "## Application Problem\n",
    "\n",
    "In this application problem, we will use Markov Chains as a way to model traffic moving around a website. Markov chains model transition probabilities between discrete states. *Insert Grumpy Cat Example Here* \n",
    "\n",
    "TODO: Insert graphic for markov chains\n",
    "TODO: Insert math behind markov chain stationary distribution\n",
    "TODO: Discuss interpretation of stationary distribution\n",
    "TODO: Discuss methods of finding stationary distribution\n",
    "TODO: Find dynamic visualization for Markov chains (graphicx?)"
   ]
  }
 ],
 "metadata": {
  "kernelspec": {
   "display_name": "Python 3",
   "language": "python",
   "name": "python3"
  },
  "language_info": {
   "codemirror_mode": {
    "name": "ipython",
    "version": 3
   },
   "file_extension": ".py",
   "mimetype": "text/x-python",
   "name": "python",
   "nbconvert_exporter": "python",
   "pygments_lexer": "ipython3",
   "version": "3.6.5"
  }
 },
 "nbformat": 4,
 "nbformat_minor": 2
}
