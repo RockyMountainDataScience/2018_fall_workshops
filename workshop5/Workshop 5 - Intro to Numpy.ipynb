{
 "cells": [
  {
   "cell_type": "markdown",
   "metadata": {},
   "source": [
    "# Workshop 5\n",
    "\n",
    "### Introduction to Numpy\n",
    "\n",
    "## What is Numpy?\n",
    "\n",
    "\n",
    "NumPy or Numerical Python is a powerful library to handle complex matrix operations. In our workshops so far, we have not yet come across a data structure which is designed for purely mathematical operations on lists or arrays. While we can design a pseudo-matrix by embedding list data structures within other lists, there is no easy functionality to perform operations like adding, subtracting, multiplying or inverting matrices. Numerical python solves this issue.\n",
    "\n",
    "If you have a background in MATLAB or R, you are likely familiar with the built-in matrix functionality. In MATLAB, the core data structure is a matrix. In this language you interact with objects primarily through indexing it within a larger structure. R also provides functionality to deal with matrices, but with less elegance than MATLAB. The key differences between all of these languages (Python, MATLAB, and R) is the additional functionality that can be leveraged.\n",
    "\n",
    "While both MATLAB and R are both capable of writing complex programs and are standards in many fields (engineering, statistics), Data Science operates at the intersection of mathematics, statistics, and software. In software, one of the primary goals of code is to be able to be used in a Machine Learning Pipeline. This typically involves writing scripts which can be easily implemented into an automated workflow of reading data, processing data, fitting a model, and serving results. For this use case, Python is most productive as back-end code defining the server to web-driven templates can all be written natively in Python.\n",
    "\n",
    "## Data Structure Basics\n",
    "\n",
    "### Creating an Array\n",
    "\n",
    "To begin the process of learning NumPy, we will learn the core data structure provided by the library: \\ndarray\\. A \\ndarray\\ is the same idea as we have seen before with lists embedded within lists. In this case, those lists are rows within a matrix. To define an array, there are several common commands. To begin, we will import the NumPy library using the following line:"
   ]
  },
  {
   "cell_type": "code",
   "execution_count": 2,
   "metadata": {},
   "outputs": [],
   "source": [
    "import numpy as np"
   ]
  },
  {
   "cell_type": "markdown",
   "metadata": {},
   "source": [
    "Notice that the import command we use renames the library as simply np. Since we will call functions from the numpy library often, it is easier to rename the library to only a two character name for ease of use. Now, we can define an nd array using the following command:"
   ]
  },
  {
   "cell_type": "code",
   "execution_count": 3,
   "metadata": {},
   "outputs": [
    {
     "data": {
      "text/plain": [
       "array([], dtype=float64)"
      ]
     },
     "execution_count": 3,
     "metadata": {},
     "output_type": "execute_result"
    }
   ],
   "source": [
    "first_ndarray = np.array([])\n",
    "first_ndarray"
   ]
  },
  {
   "cell_type": "markdown",
   "metadata": {},
   "source": [
    "This array contains a singular, but null, element (by default). If we would like to create an array which contains items that we specify, we can place items in the inner brackets (Python list) to construct the array. The following code creates an array with four ordered elements:"
   ]
  },
  {
   "cell_type": "code",
   "execution_count": 4,
   "metadata": {},
   "outputs": [
    {
     "data": {
      "text/plain": [
       "array([1, 2, 3, 4])"
      ]
     },
     "execution_count": 4,
     "metadata": {},
     "output_type": "execute_result"
    }
   ],
   "source": [
    "second_ndarray = np.array([1,2,3,4])\n",
    "second_ndarray"
   ]
  },
  {
   "cell_type": "markdown",
   "metadata": {},
   "source": [
    "Now that we have some of this functionality, we are still missing some core matrix ideas. Specifically, how do we move beyond the idea of vectors or 1-dimensional arrays to multi-dimensional arrays and matrices? For this, we can use the same array constructor with two possible solutions. The first is to specify the structure using lists within lists as rows within a matrix. If we use this syntax, we get the following result:"
   ]
  },
  {
   "cell_type": "code",
   "execution_count": 5,
   "metadata": {},
   "outputs": [
    {
     "data": {
      "text/plain": [
       "array([[1, 2],\n",
       "       [3, 4]])"
      ]
     },
     "execution_count": 5,
     "metadata": {},
     "output_type": "execute_result"
    }
   ],
   "source": [
    "third_ndarray = np.array([[1,2],[3,4]])\n",
    "third_ndarray"
   ]
  },
  {
   "cell_type": "markdown",
   "metadata": {},
   "source": [
    "The second option to get an identical result is to reshape an existing one dimensional array into the desired shape using the reshape command. Unlike some other functions we have seen, there are other functions which are inherent to specific objects in programming. The functions we have written previously are not bound to a specific type of data structure. However, many of the functions related to NumPy are bound to the objects they operate on. Reshape is one example and takes a tuple of two numbers as input. To operate on the object using the bound function, we place a . at the end of the object name then call the function. The following line demonstrates this:"
   ]
  },
  {
   "cell_type": "code",
   "execution_count": 6,
   "metadata": {},
   "outputs": [
    {
     "data": {
      "text/plain": [
       "array([[1, 2],\n",
       "       [3, 4]])"
      ]
     },
     "execution_count": 6,
     "metadata": {},
     "output_type": "execute_result"
    }
   ],
   "source": [
    "second_ndarray.reshape((2,2))"
   ]
  },
  {
   "cell_type": "markdown",
   "metadata": {},
   "source": [
    "Some helpful functions found in other languages to generate matrices are also present in NumPy. Specifically, \\eye\\ or identity matrices and zeros are both found in NumPy. Examples of calling this functions are:"
   ]
  },
  {
   "cell_type": "code",
   "execution_count": 7,
   "metadata": {},
   "outputs": [
    {
     "data": {
      "text/plain": [
       "array([[1., 0., 0., 0., 0.],\n",
       "       [0., 1., 0., 0., 0.],\n",
       "       [0., 0., 1., 0., 0.],\n",
       "       [0., 0., 0., 1., 0.],\n",
       "       [0., 0., 0., 0., 1.]])"
      ]
     },
     "execution_count": 7,
     "metadata": {},
     "output_type": "execute_result"
    }
   ],
   "source": [
    "np.eye(5) # Number of rows as first argument, number of columns as second argument"
   ]
  },
  {
   "cell_type": "code",
   "execution_count": 8,
   "metadata": {},
   "outputs": [
    {
     "data": {
      "text/plain": [
       "array([[0., 0., 0., 0., 0.],\n",
       "       [0., 0., 0., 0., 0.]])"
      ]
     },
     "execution_count": 8,
     "metadata": {},
     "output_type": "execute_result"
    }
   ],
   "source": [
    "np.zeros((2,5)) # Tuple with rows and columns as argument"
   ]
  },
  {
   "cell_type": "markdown",
   "metadata": {},
   "source": [
    "### Accessing Specific Elements, Rows, and Columns\n",
    "\n",
    "Now that we can construct matrices to our specifications, we need to learn how to access elements, rows, and columns on demand. To do this, we can use syntax similar to accessing elements of lists. When we define lists, we can use the following syntax to access specific parts of the list:"
   ]
  },
  {
   "cell_type": "code",
   "execution_count": 9,
   "metadata": {},
   "outputs": [
    {
     "data": {
      "text/plain": [
       "1"
      ]
     },
     "execution_count": 9,
     "metadata": {},
     "output_type": "execute_result"
    }
   ],
   "source": [
    "test_list = [1,2,3,4]\n",
    "test_list[0]"
   ]
  },
  {
   "cell_type": "code",
   "execution_count": 10,
   "metadata": {},
   "outputs": [
    {
     "data": {
      "text/plain": [
       "[1, 2]"
      ]
     },
     "execution_count": 10,
     "metadata": {},
     "output_type": "execute_result"
    }
   ],
   "source": [
    "test_list[0:2]"
   ]
  },
  {
   "cell_type": "code",
   "execution_count": 11,
   "metadata": {},
   "outputs": [
    {
     "data": {
      "text/plain": [
       "4"
      ]
     },
     "execution_count": 11,
     "metadata": {},
     "output_type": "execute_result"
    }
   ],
   "source": [
    "test_list[-1]"
   ]
  },
  {
   "cell_type": "markdown",
   "metadata": {},
   "source": [
    "Accessing rows and columns in a NumPy array is a similar idea, but we must also account for both the rows and columns. Suppose we are dealing with the following $3 \\times 3$ matrix. If we want to access first element of the first row, we can do that by thinking about what row the element is in and then what column the element is in. "
   ]
  },
  {
   "cell_type": "code",
   "execution_count": 12,
   "metadata": {},
   "outputs": [
    {
     "data": {
      "text/plain": [
       "array([[1, 2, 3],\n",
       "       [4, 5, 6],\n",
       "       [7, 8, 9]])"
      ]
     },
     "execution_count": 12,
     "metadata": {},
     "output_type": "execute_result"
    }
   ],
   "source": [
    "test_matrix = np.array([[1,2,3],[4,5,6],[7,8,9]])\n",
    "test_matrix"
   ]
  },
  {
   "cell_type": "code",
   "execution_count": 13,
   "metadata": {},
   "outputs": [
    {
     "data": {
      "text/plain": [
       "1"
      ]
     },
     "execution_count": 13,
     "metadata": {},
     "output_type": "execute_result"
    }
   ],
   "source": [
    "test_matrix[0,0]"
   ]
  },
  {
   "cell_type": "markdown",
   "metadata": {},
   "source": [
    "Now suppose we want to access all of the elements in a specific row or column, we can do that by using a colon in place of the row or column index to access all within that row or column. For example, if we are interested in all of the second column and all of the second row, we can access both of those using the syntax:"
   ]
  },
  {
   "cell_type": "code",
   "execution_count": 14,
   "metadata": {},
   "outputs": [
    {
     "data": {
      "text/plain": [
       "array([2, 5, 8])"
      ]
     },
     "execution_count": 14,
     "metadata": {},
     "output_type": "execute_result"
    }
   ],
   "source": [
    "test_matrix[:,1]"
   ]
  },
  {
   "cell_type": "code",
   "execution_count": 15,
   "metadata": {},
   "outputs": [
    {
     "data": {
      "text/plain": [
       "array([4, 5, 6])"
      ]
     },
     "execution_count": 15,
     "metadata": {},
     "output_type": "execute_result"
    }
   ],
   "source": [
    "test_matrix[1,:]"
   ]
  },
  {
   "cell_type": "markdown",
   "metadata": {},
   "source": [
    "### Accessing Shape an Array\n",
    "\n",
    "Often when debugging, it is helpful to check the shape of the array to ensure it matches our expectation. In order to access the shape property of an array, we use syntax similar to that of the bound function reshape. Instead of passing arguments to the bound function, we are interested only in the bound /property/. Using our test matrix from the previous example, we see that the shape of the array matches are expectation (It's a $3 \\times 3$ matrix!)"
   ]
  },
  {
   "cell_type": "code",
   "execution_count": 16,
   "metadata": {},
   "outputs": [
    {
     "data": {
      "text/plain": [
       "(3, 3)"
      ]
     },
     "execution_count": 16,
     "metadata": {},
     "output_type": "execute_result"
    }
   ],
   "source": [
    "test_matrix.shape"
   ]
  },
  {
   "cell_type": "markdown",
   "metadata": {},
   "source": [
    "## Numpy Array Operations\n",
    "\n",
    "### Array Addition and Subtract\n",
    "\n",
    "Now that we know how to create arrays to our liking, let's operate on them using familiar mathematical operations. The basic functions of addition and subtract work as we would expect with a few strange cases. Let's walk through some examples. If we define to example arrays and then try to add or subtract them what happens?"
   ]
  },
  {
   "cell_type": "code",
   "execution_count": 17,
   "metadata": {},
   "outputs": [],
   "source": [
    "array1 = np.array([[1,2],[3,4]])\n",
    "array2 = np.eye(2)"
   ]
  },
  {
   "cell_type": "code",
   "execution_count": 18,
   "metadata": {},
   "outputs": [
    {
     "data": {
      "text/plain": [
       "array([[2., 2.],\n",
       "       [3., 5.]])"
      ]
     },
     "execution_count": 18,
     "metadata": {},
     "output_type": "execute_result"
    }
   ],
   "source": [
    "array1 + array2"
   ]
  },
  {
   "cell_type": "code",
   "execution_count": 19,
   "metadata": {},
   "outputs": [
    {
     "data": {
      "text/plain": [
       "array([[0., 2.],\n",
       "       [3., 3.]])"
      ]
     },
     "execution_count": 19,
     "metadata": {},
     "output_type": "execute_result"
    }
   ],
   "source": [
    "array1 - array2"
   ]
  },
  {
   "cell_type": "markdown",
   "metadata": {},
   "source": [
    "As expected, matrix addition and subtraction work as expected. In this case, we had the same shape for each array. What happens if we don't have the same shape for each array. One simple example is if we add or subtract a scalar from a matrix. The code below shows some examples of this:"
   ]
  },
  {
   "cell_type": "code",
   "execution_count": 29,
   "metadata": {},
   "outputs": [
    {
     "data": {
      "text/plain": [
       "array([[6, 7],\n",
       "       [8, 9]])"
      ]
     },
     "execution_count": 29,
     "metadata": {},
     "output_type": "execute_result"
    }
   ],
   "source": [
    "array1 + 5"
   ]
  },
  {
   "cell_type": "code",
   "execution_count": 30,
   "metadata": {},
   "outputs": [
    {
     "data": {
      "text/plain": [
       "array([[-4., -5.],\n",
       "       [-5., -4.]])"
      ]
     },
     "execution_count": 30,
     "metadata": {},
     "output_type": "execute_result"
    }
   ],
   "source": [
    "array2 - 5"
   ]
  },
  {
   "cell_type": "markdown",
   "metadata": {},
   "source": [
    "If we define a third example array which has two elements, we can attempt the same operations again."
   ]
  },
  {
   "cell_type": "code",
   "execution_count": 26,
   "metadata": {},
   "outputs": [
    {
     "data": {
      "text/plain": [
       "array([[2, 4],\n",
       "       [4, 6]])"
      ]
     },
     "execution_count": 26,
     "metadata": {},
     "output_type": "execute_result"
    }
   ],
   "source": [
    "array3 = np.array([[1,2]])\n",
    "array1 + array3"
   ]
  },
  {
   "cell_type": "code",
   "execution_count": 27,
   "metadata": {},
   "outputs": [
    {
     "data": {
      "text/plain": [
       "array([[0, 0],\n",
       "       [2, 2]])"
      ]
     },
     "execution_count": 27,
     "metadata": {},
     "output_type": "execute_result"
    }
   ],
   "source": [
    "array1 - array3"
   ]
  },
  {
   "cell_type": "markdown",
   "metadata": {},
   "source": [
    "This can be very strange behavior depending on your expectations. In many languages, this would result in an error. However, NumPy interprets this as adding or subtracting the third array (array3) to each of the rows of the first array (array1). This reinforces the necessity to check matrix dimensions from time to time to ensure expected results are being produced.\n",
    "\n",
    "### Array Multiplication(s)\n",
    "\n",
    "There are two types of multiplication we will be interested in performing when dealing with matrices or arrays. The first is classical matrix multiplication. In order to perform this we will need conformable arrays. This means that each of the arrays being multiplied must have the shape which is necessary for this type of multiplication to be applied. The second type of matrix multiplication is element-wise multiplication. It is easy to confuse the syntax for these two methods, so we begin with the intuitive syntax choice of using an asterik to multiply each matrix. Using the first two defined arrays from the previous example, we have the following example of using this syntax."
   ]
  },
  {
   "cell_type": "code",
   "execution_count": 33,
   "metadata": {},
   "outputs": [
    {
     "data": {
      "text/plain": [
       "array([[ 1,  4],\n",
       "       [ 9, 16]])"
      ]
     },
     "execution_count": 33,
     "metadata": {},
     "output_type": "execute_result"
    }
   ],
   "source": [
    "array1 * array1"
   ]
  },
  {
   "cell_type": "markdown",
   "metadata": {},
   "source": [
    "Using the asterisk to define multiplication between two arrays results in element-wise multiplication. This is an important syntax choice to remember for NumPy as it may result in a difficult debugging process depending on the complexity of the project. To perform matrix multiplication in the mathematical sense, we use the following function syntax."
   ]
  },
  {
   "cell_type": "code",
   "execution_count": 34,
   "metadata": {},
   "outputs": [
    {
     "data": {
      "text/plain": [
       "array([[ 7, 10],\n",
       "       [15, 22]])"
      ]
     },
     "execution_count": 34,
     "metadata": {},
     "output_type": "execute_result"
    }
   ],
   "source": [
    "array1 @ array1"
   ]
  },
  {
   "cell_type": "markdown",
   "metadata": {},
   "source": [
    "### Matrix Inversion\n",
    "\n",
    "In order to invert matrices, we need to import some additional functionality from NumPy. Specifically, we need to import the \\inv\\ function from the \\linalg\\ submodule. We can then apply this function on an array of our choosing to invert the matrix. The following example shows how to import the function and apply it to an array."
   ]
  },
  {
   "cell_type": "code",
   "execution_count": 37,
   "metadata": {},
   "outputs": [
    {
     "data": {
      "text/plain": [
       "array([[-2. ,  1. ],\n",
       "       [ 1.5, -0.5]])"
      ]
     },
     "execution_count": 37,
     "metadata": {},
     "output_type": "execute_result"
    }
   ],
   "source": [
    "from numpy.linalg import inv\n",
    "inv(array1)"
   ]
  },
  {
   "cell_type": "markdown",
   "metadata": {},
   "source": [
    "Using what we know about matrix multiplication, we can verify that this function works by multiplying the inverse by the original matrix. The following example shows this computation."
   ]
  },
  {
   "cell_type": "code",
   "execution_count": null,
   "metadata": {},
   "outputs": [],
   "source": [
    "inv(array1) @ array1"
   ]
  },
  {
   "cell_type": "markdown",
   "metadata": {},
   "source": [
    "One thing to remember is that this is a numerical library. Sometimes we will see numbers near zero but not exactly zero. While mathematically these are different numbers, practically they typically do not have a significant effect on most applications. "
   ]
  },
  {
   "cell_type": "markdown",
   "metadata": {},
   "source": [
    "### Computing Eigenvalues and Eigenvectors\n",
    "\n",
    "One final important feature of NumPy that we will discuss is that of finding eigenvalues. For this, we will important another function from the \\linalg\\ submodule named eig. Using the array from the previous example, we can find the eigenvalues and associated right eigenvector from the matrix. Note that we need to capture the output from the function into both eigenvalues and eigenvectors"
   ]
  },
  {
   "cell_type": "code",
   "execution_count": 42,
   "metadata": {},
   "outputs": [
    {
     "data": {
      "text/plain": [
       "array([-0.37228132,  5.37228132])"
      ]
     },
     "execution_count": 42,
     "metadata": {},
     "output_type": "execute_result"
    }
   ],
   "source": [
    "from numpy.linalg import eig\n",
    "eigenvalues, eigenvectors = eig(array1)\n",
    "eigenvalues"
   ]
  },
  {
   "cell_type": "code",
   "execution_count": 41,
   "metadata": {},
   "outputs": [
    {
     "data": {
      "text/plain": [
       "array([[-0.82456484, -0.41597356],\n",
       "       [ 0.56576746, -0.90937671]])"
      ]
     },
     "execution_count": 41,
     "metadata": {},
     "output_type": "execute_result"
    }
   ],
   "source": [
    "eigenvectors"
   ]
  },
  {
   "cell_type": "markdown",
   "metadata": {},
   "source": [
    "## Application Problem\n",
    "\n",
    "For this application problem, we will imagine a world with an internet containing only four websites. Since this world is so small, you have been tasked with building the search engine for this internet (for better or worse). It seems reasonable to think about traffic moving between sites and somehow finding the proportion of time people spend on any given website. \n",
    "\n",
    "What we are describing is a [Markov Chain](http://wikipedia.org/Markov) whereby we define _transition probabilities_ between nodes in a graph. Consider the graph below as an example. \n",
    "\n",
    "\n",
    "\n",
    "If you're unfamiliar with Markov Chains entirely, this [website](http://setosa.io/blog/2014/07/26/markov-chains/) has an excellent interactive visualization to help you build intuition quickly.\n",
    "\n",
    "When we think about finding the proportion of time people spend on any given website, we are mathematically interested in the stationary distribution of the Markov Chain. The stationary distribution is the probability that we are on a given website at any given time. If we can find a way to rank how likely we are to be on a certain website, we can determine the order in which to rank the websites on our search engine!\n",
    "\n",
    "## Tier 1 -- Matrix Multiplication\n",
    "\n",
    "The first way of computing the stationary distribution of a Markov Chain is to multiply the matrix by itself multiple times. This is away of thinking about \"simulating\" the markov process over and over. Eventually, we will reach a matrix which has some non-zero numbers along the diagonal elements and zeros elsewhere. These non-zero numbers correspond to the proportion of time we are expected to spend on that website. \n",
    "\n",
    "For this tier, write a function which multiplies a matrix times itself a specified number of times. Use this function to find the stationary distribution of the provided Markov Chain. If interested, you can compare your answer to the one found by using [this NumPy function](https://docs.scipy.org/doc/numpy-1.15.0/reference/generated/numpy.linalg.matrix_power.html). (Import will be required)\n",
    "\n",
    "## Tier 2 -- Eigenvalues\n",
    "\n",
    "As explained by [this Brilliant article](https://brilliant.org/wiki/stationary-distributions/), the eigenvalues correspond to values of the stationary distribution. For this tier, apply the eigenvalue/vector functionality from the notebook to find the stationary distribution of the provided Markov Chain. \n",
    "\n",
    "## Tier 3 -- Monte Carlo Markov Chain\n",
    "\n",
    "The final way to find the stationary distribution is to use Monte Carlo methods. Monte Carlo is a general class of algorithms which describe simulating a large number of events and examining the results. In this case, we can think about simulating people visiting and traveling across each of these sites by using the transition probabilities presented. This process is also known as Monte Carlo Markov Chain (MCMC) and is a fundamental algorithm underlying Bayesian inference methods.\n",
    "\n",
    "For this tier, write a simulation which tracks the locations of a large number of internet users and their traffic across the websites. You will need to use the transition probabilities to move between nodes. [This function](https://docs.scipy.org/doc/numpy-1.15.0/reference/generated/numpy.random.choice.html) could make this process easier."
   ]
  }
 ],
 "metadata": {
  "kernelspec": {
   "display_name": "Python 3",
   "language": "python",
   "name": "python3"
  },
  "language_info": {
   "codemirror_mode": {
    "name": "ipython",
    "version": 3
   },
   "file_extension": ".py",
   "mimetype": "text/x-python",
   "name": "python",
   "nbconvert_exporter": "python",
   "pygments_lexer": "ipython3",
   "version": "3.6.5"
  }
 },
 "nbformat": 4,
 "nbformat_minor": 2
}
